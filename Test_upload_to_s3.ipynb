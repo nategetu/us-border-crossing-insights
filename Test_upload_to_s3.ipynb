{
 "cells": [
  {
   "cell_type": "code",
   "execution_count": null,
   "id": "61bdb385-52e0-41ed-a40a-64bb4ce1d4ff",
   "metadata": {},
   "outputs": [],
   "source": [
    "import boto3\n",
    "import pandas as pd\n",
    "import os"
   ]
  },
  {
   "cell_type": "code",
   "execution_count": null,
   "id": "471aa3fa-878c-471f-9e01-44dc0dff20ee",
   "metadata": {},
   "outputs": [],
   "source": [
    "AWS_S3_BUCKET_NAME = 'border-crossing-bucket'\n",
    "AWS_REGION = 'us-east-1'\n",
    "AWS_ACCESS_KEY = os.environ.get('AWS_ACCESS_KEY')\n",
    "AWS_SECRET_KEY = os.environ.get('AWS_SECRET_KEY')"
   ]
  },
  {
   "cell_type": "code",
   "execution_count": null,
   "id": "6c2f0761",
   "metadata": {},
   "outputs": [],
   "source": [
    "s3_client = boto3.client(\n",
    "        service_name='s3',\n",
    "        region_name=AWS_REGION,\n",
    "        aws_access_key_id=AWS_ACCESS_KEY,\n",
    "        aws_secret_access_key=AWS_SECRET_KEY\n",
    "    )\n"
   ]
  },
  {
   "cell_type": "code",
   "execution_count": null,
   "id": "d5f72091-2271-4298-aef7-b5453e76031d",
   "metadata": {},
   "outputs": [],
   "source": [
    "!wget -O border_crossings.csv https://data.transportation.gov/api/views/keg4-3bc2/rows.csv?accessType=DOWNLOAD\n",
    "border_crossing_csv = 'border_crossings.csv'\n",
    "bc_s3_file_name = 'border_crossings_s3.csv'\n",
    "crossings_pre_processing = pd.read_csv(border_crossing_csv).drop(columns=['Point'])\n",
    "crossings_pre_processing.to_csv(border_crossing_csv, index=False, header=False)\n",
    "response = s3_client.upload_file(border_crossing_csv, AWS_S3_BUCKET_NAME, bc_s3_file_name)\n",
    "print(response)"
   ]
  },
  {
   "cell_type": "code",
   "execution_count": null,
   "id": "94113a32-2a72-437f-a043-231151e4f3d7",
   "metadata": {},
   "outputs": [],
   "source": [
    "!wget -O principal_ports.csv \"https://hub.arcgis.com/api/v3/datasets/e3b6065cce144be8a13a59e03c4195fe_0/downloads/data?format=csv&spatialRefId=3857&where=1%3D1\"\n",
    "principal_ports_csv = 'principal_ports.csv'\n",
    "pp_s3_file_name = 'principal_ports_s3.csv'\n",
    "principal_ports_preproc = pd.read_csv(principal_ports_csv).drop(columns = ['X', 'Y'])\n",
    "principal_ports_preproc.to_csv(principal_ports_csv, index=False, header=False)\n",
    "response = s3_client.upload_file(principal_ports_csv, AWS_S3_BUCKET_NAME, pp_s3_file_name)\n",
    "print(response)"
   ]
  },
  {
   "cell_type": "code",
   "execution_count": null,
   "id": "5cdee4fc-385f-4d31-8e81-b95c33dd8aff",
   "metadata": {},
   "outputs": [],
   "source": [
    "!wget -O port_statistical_areas.csv \"https://hub.arcgis.com/api/v3/datasets/6755534edf0f441894e021912486db31_0/downloads/data?format=csv&spatialRefId=4269&where=1%3D1\"\n",
    "port_statistical_areas_csv = 'port_statistical_areas.csv'\n",
    "ps_s3_file_name = 'port_statistical_areas_s3.csv'\n",
    "port_statistical_areas_preproc = pd.read_csv(port_statistical_areas_csv)[['PORTIDPK', 'FEATUREDESCRIPTION']]\n",
    "port_statistical_areas_preproc.to_csv(port_statistical_areas_csv, index=False, header=False)\n",
    "\n",
    "response = s3_client.upload_file(port_statistical_areas_csv, AWS_S3_BUCKET_NAME, ps_s3_file_name)\n",
    "print(response)"
   ]
  },
  {
   "cell_type": "code",
   "execution_count": null,
   "id": "09a9390f",
   "metadata": {},
   "outputs": [],
   "source": [
    "import os\n",
    "import urllib.request\n",
    "\n",
    "import pyarrow as pa\n",
    "import pyarrow.parquet as pq\n",
    "import pandas as pd\n",
    "\n",
    "def process_file(url, file_name):\n",
    "    with urllib.request.urlopen(url) as data:\n",
    "        pd_data = pd.read_csv(data)\n",
    "        if file_name == 'border_crossings':\n",
    "            pd_data = pd_data.drop(columns=['Point'])\n",
    "        elif file_name == 'principal_ports':\n",
    "            pd_data = pd_data.drop(columns = ['X', 'Y'])\n",
    "        elif file_name == 'port_statistical_areas':\n",
    "            pd_data = pd_data[['PORTIDPK', 'FEATUREDESCRIPTION']]\n",
    "        pa_table = pa.Table.from_pandas(pd_data)\n",
    "        pq.write_table(pa_table, f'{file_name}_s3.parquet')"
   ]
  },
  {
   "cell_type": "code",
   "execution_count": null,
   "id": "baa4caa4",
   "metadata": {},
   "outputs": [],
   "source": [
    "url = \"https://hub.arcgis.com/api/v3/datasets/6755534edf0f441894e021912486db31_0/downloads/data?format=csv&spatialRefId=4269&where=1%3D1\"\n",
    "process_file(url, 'port_statistical_areas')"
   ]
  },
  {
   "cell_type": "code",
   "execution_count": null,
   "id": "2037c07b",
   "metadata": {},
   "outputs": [],
   "source": [
    "from airflow.providers.amazon.aws.hooks.s3 import S3Hook"
   ]
  },
  {
   "cell_type": "code",
   "execution_count": null,
   "id": "1d2567e0",
   "metadata": {},
   "outputs": [],
   "source": []
  }
 ],
 "metadata": {
  "kernelspec": {
   "display_name": "us_bci",
   "language": "python",
   "name": "python3"
  },
  "language_info": {
   "codemirror_mode": {
    "name": "ipython",
    "version": 3
   },
   "file_extension": ".py",
   "mimetype": "text/x-python",
   "name": "python",
   "nbconvert_exporter": "python",
   "pygments_lexer": "ipython3",
   "version": "3.13.2"
  }
 },
 "nbformat": 4,
 "nbformat_minor": 5
}

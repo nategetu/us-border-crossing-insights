{
 "cells": [
  {
   "cell_type": "code",
   "execution_count": 1,
   "id": "61bdb385-52e0-41ed-a40a-64bb4ce1d4ff",
   "metadata": {},
   "outputs": [],
   "source": [
    "import boto3\n",
    "import pandas as pd\n",
    "import os"
   ]
  },
  {
   "cell_type": "code",
   "execution_count": 2,
   "id": "471aa3fa-878c-471f-9e01-44dc0dff20ee",
   "metadata": {},
   "outputs": [],
   "source": [
    "AWS_S3_BUCKET_NAME = 'border-crossing-bucket'\n",
    "AWS_REGION = 'us-east-1'\n",
    "AWS_ACCESS_KEY = os.environ.get('AWS_ACCESS_KEY')\n",
    "AWS_SECRET_KEY = os.environ.get('AWS_SECRET_KEY')"
   ]
  },
  {
   "cell_type": "code",
   "execution_count": null,
   "id": "d5f72091-2271-4298-aef7-b5453e76031d",
   "metadata": {},
   "outputs": [],
   "source": [
    "!wget -O border_crossings.csv https://data.transportation.gov/api/views/keg4-3bc2/rows.csv?accessType=DOWNLOAD"
   ]
  },
  {
   "cell_type": "code",
   "execution_count": 5,
   "id": "94113a32-2a72-437f-a043-231151e4f3d7",
   "metadata": {},
   "outputs": [],
   "source": [
    "border_crossing_csv = 'border_crossings.csv'"
   ]
  },
  {
   "cell_type": "code",
   "execution_count": 6,
   "id": "5cdee4fc-385f-4d31-8e81-b95c33dd8aff",
   "metadata": {},
   "outputs": [],
   "source": [
    "s3_file_name = 'border_crossings_s3.csv'"
   ]
  },
  {
   "cell_type": "code",
   "execution_count": 8,
   "id": "a01a42c7-f235-4be5-ba6c-7193edf8200e",
   "metadata": {},
   "outputs": [
    {
     "name": "stdout",
     "output_type": "stream",
     "text": [
      "None\n"
     ]
    }
   ],
   "source": [
    "s3_client = boto3.client(\n",
    "        service_name='s3',\n",
    "        region_name=AWS_REGION,\n",
    "        aws_access_key_id=AWS_ACCESS_KEY,\n",
    "        aws_secret_access_key=AWS_SECRET_KEY\n",
    "    )\n",
    "\n",
    "response = s3_client.upload_file(border_crossing_csv, AWS_S3_BUCKET_NAME, s3_file_name)\n",
    "print(response)"
   ]
  }
 ],
 "metadata": {
  "kernelspec": {
   "display_name": "Python [conda env:.conda-us_bci] *",
   "language": "python",
   "name": "conda-env-.conda-us_bci-py"
  },
  "language_info": {
   "codemirror_mode": {
    "name": "ipython",
    "version": 3
   },
   "file_extension": ".py",
   "mimetype": "text/x-python",
   "name": "python",
   "nbconvert_exporter": "python",
   "pygments_lexer": "ipython3",
   "version": "3.13.2"
  }
 },
 "nbformat": 4,
 "nbformat_minor": 5
}
